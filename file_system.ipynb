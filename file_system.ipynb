{
 "cells": [
  {
   "cell_type": "code",
   "execution_count": 1,
   "metadata": {},
   "outputs": [],
   "source": [
    "import file_system as file_sys"
   ]
  },
  {
   "cell_type": "code",
   "execution_count": 2,
   "metadata": {},
   "outputs": [],
   "source": [
    "fs = file_sys.FileSystem()\n"
   ]
  },
  {
   "cell_type": "markdown",
   "metadata": {},
   "source": [
    "### Criar diretórios e arquivos na raiz\n"
   ]
  },
  {
   "cell_type": "code",
   "execution_count": 3,
   "metadata": {},
   "outputs": [
    {
     "name": "stdout",
     "output_type": "stream",
     "text": [
      "dir1 diretório criado.\n",
      "dir2 diretório criado.\n",
      "file1 arquivo criado.\n",
      "\n",
      "Conteúdo do diretório raiz:\n",
      "dir1/\n",
      "dir2/\n",
      "file1\n"
     ]
    }
   ],
   "source": [
    "fs.create(\"dir1\", is_directory=True)\n",
    "fs.create(\"dir2\", is_directory=True)\n",
    "fs.create(\"file1\")\n",
    "\n",
    "print(\"\\nConteúdo do diretório raiz:\")\n",
    "fs.list_directory()\n"
   ]
  },
  {
   "cell_type": "markdown",
   "metadata": {},
   "source": [
    "### Mudar para o diretório \"dir1\" e criar arquivos e subdiretórios\n"
   ]
  },
  {
   "cell_type": "code",
   "execution_count": 4,
   "metadata": {},
   "outputs": [
    {
     "name": "stdout",
     "output_type": "stream",
     "text": [
      "file2 arquivo criado.\n",
      "subdir1 diretório criado.\n",
      "subdir2 diretório criado.\n",
      "\n",
      "Conteúdo do diretório dir1:\n",
      "file2\n",
      "subdir1/\n",
      "subdir2/\n"
     ]
    }
   ],
   "source": [
    "fs.change_directory(\"dir1\")\n",
    "fs.create(\"file2\")\n",
    "fs.create(\"subdir1\", is_directory=True)\n",
    "fs.create(\"subdir2\", is_directory=True)\n",
    "\n",
    "print(\"\\nConteúdo do diretório dir1:\")\n",
    "fs.list_directory()\n"
   ]
  },
  {
   "cell_type": "markdown",
   "metadata": {},
   "source": [
    "### Mudar para \"subdir1\" e criar um arquivo"
   ]
  },
  {
   "cell_type": "code",
   "execution_count": 5,
   "metadata": {},
   "outputs": [
    {
     "name": "stdout",
     "output_type": "stream",
     "text": [
      "file3 arquivo criado.\n",
      "\n",
      "Conteúdo do diretório subdir1:\n",
      "file3\n"
     ]
    }
   ],
   "source": [
    "fs.change_directory(\"subdir1\")\n",
    "fs.create(\"file3\")\n",
    "\n",
    "print(\"\\nConteúdo do diretório subdir1:\")\n",
    "fs.list_directory()\n"
   ]
  },
  {
   "cell_type": "markdown",
   "metadata": {},
   "source": [
    "### Voltar para o diretório raiz\n"
   ]
  },
  {
   "cell_type": "code",
   "execution_count": 6,
   "metadata": {},
   "outputs": [
    {
     "name": "stdout",
     "output_type": "stream",
     "text": [
      "dir1/\n",
      "dir2/\n",
      "file1\n"
     ]
    }
   ],
   "source": [
    "fs.change_directory(\"..\")\n",
    "fs.change_directory(\"..\")\n",
    "fs.list_directory()"
   ]
  },
  {
   "cell_type": "markdown",
   "metadata": {},
   "source": [
    "### Renomear \"file1\" para \"file3\"\n"
   ]
  },
  {
   "cell_type": "code",
   "execution_count": 7,
   "metadata": {},
   "outputs": [
    {
     "name": "stdout",
     "output_type": "stream",
     "text": [
      "file1 renomeado para file3.\n"
     ]
    }
   ],
   "source": [
    "fs.rename(\"file1\", \"file3\")\n"
   ]
  },
  {
   "cell_type": "markdown",
   "metadata": {},
   "source": [
    "### Escrever dados em \"file3\"\n"
   ]
  },
  {
   "cell_type": "code",
   "execution_count": 8,
   "metadata": {},
   "outputs": [
    {
     "name": "stdout",
     "output_type": "stream",
     "text": [
      "Dados escritos em file3.\n"
     ]
    }
   ],
   "source": [
    "fs.write_file(\"file3\", \"Hello, World!\")\n"
   ]
  },
  {
   "cell_type": "markdown",
   "metadata": {},
   "source": [
    "### Ler dados de \"file3\"\n"
   ]
  },
  {
   "cell_type": "code",
   "execution_count": 9,
   "metadata": {},
   "outputs": [
    {
     "name": "stdout",
     "output_type": "stream",
     "text": [
      "Dados de file3: Hello, World!\n"
     ]
    }
   ],
   "source": [
    "fs.read_file(\"file3\")\n"
   ]
  },
  {
   "cell_type": "markdown",
   "metadata": {},
   "source": [
    "### Excluir \"file3\"\n"
   ]
  },
  {
   "cell_type": "code",
   "execution_count": 10,
   "metadata": {},
   "outputs": [
    {
     "name": "stdout",
     "output_type": "stream",
     "text": [
      "file3 excluído.\n",
      "\n",
      "Conteúdo do diretório raiz após exclusão:\n",
      "dir1/\n",
      "dir2/\n"
     ]
    }
   ],
   "source": [
    "fs.delete(\"file3\")\n",
    "\n",
    "print(\"\\nConteúdo do diretório raiz após exclusão:\")\n",
    "fs.list_directory()\n"
   ]
  },
  {
   "cell_type": "markdown",
   "metadata": {},
   "source": [
    "### Mover \"dir2\" de \"/\" para o \"dir1\"\n"
   ]
  },
  {
   "cell_type": "code",
   "execution_count": 11,
   "metadata": {},
   "outputs": [
    {
     "name": "stdout",
     "output_type": "stream",
     "text": [
      "dir2 movido para dir1.\n",
      "\n",
      "Conteúdo do diretório raiz após mover dir2:\n",
      "dir1/\n",
      "\n",
      "Conteúdo do diretório dir1 após mover dir2:\n",
      "file2\n",
      "subdir1/\n",
      "subdir2/\n",
      "dir2/\n"
     ]
    }
   ],
   "source": [
    "fs.move(\"dir2\", \"dir1\")\n",
    "\n",
    "print(\"\\nConteúdo do diretório raiz após mover dir2:\")\n",
    "fs.change_directory(\"..\")\n",
    "fs.list_directory()\n",
    "\n",
    "print(\"\\nConteúdo do diretório dir1 após mover dir2:\")\n",
    "fs.change_directory(\"dir1\")\n",
    "fs.list_directory()\n"
   ]
  }
 ],
 "metadata": {
  "kernelspec": {
   "display_name": "Python 3",
   "language": "python",
   "name": "python3"
  },
  "language_info": {
   "codemirror_mode": {
    "name": "ipython",
    "version": 3
   },
   "file_extension": ".py",
   "mimetype": "text/x-python",
   "name": "python",
   "nbconvert_exporter": "python",
   "pygments_lexer": "ipython3",
   "version": "3.11.3"
  }
 },
 "nbformat": 4,
 "nbformat_minor": 2
}
